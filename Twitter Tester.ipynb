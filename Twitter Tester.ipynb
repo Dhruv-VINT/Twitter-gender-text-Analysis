{
 "cells": [
  {
   "cell_type": "markdown",
   "metadata": {},
   "source": [
    "#### __Problem Statement:__\n",
    "\n",
    "For the given dataset, perform EDA with visualization, formulate 2 questions on the given data and answer the same. Then proceed to to build an ensemble classifier using 3 ML algorithms and find out which algorithm best suits the dataset with respect to the accuracy of the algorithm.\n",
    "#### __Procedure:__\n",
    "\n",
    "   1. The dataset is to be analysed and preliminary data cleaning is to be done.\n",
    "   2. Data exploration and feature engineering are to done for fine tuning of dataset.\n",
    "   3. ML modelling and accuracy checking to find the optimal algorithm for the dataset.\n",
    "\n",
    "\n",
    "#### __Questions to be answered at the end of EDA:__\n",
    "   1. Text analysis based on common words used by Males & Females ?\n",
    "   2. How significant are the color attributes used by the users ?\n"
   ]
  },
  {
   "cell_type": "code",
   "execution_count": 1,
   "metadata": {},
   "outputs": [],
   "source": [
    "# Importing necessary packages \n",
    "\n",
    "import numpy as np \n",
    "import pandas as pd\n",
    "from matplotlib import pyplot as plt\n",
    "import matplotlib.pyplot as plt\n",
    "import seaborn as sns\n",
    "%matplotlib inline\n",
    "\n",
    "import re\n",
    "from collections import Counter\n"
   ]
  },
  {
   "cell_type": "markdown",
   "metadata": {},
   "source": [
    "## __Preliminary Data Assessment__"
   ]
  },
  {
   "cell_type": "code",
   "execution_count": 2,
   "metadata": {},
   "outputs": [
    {
     "data": {
      "text/html": [
       "<div>\n",
       "<style scoped>\n",
       "    .dataframe tbody tr th:only-of-type {\n",
       "        vertical-align: middle;\n",
       "    }\n",
       "\n",
       "    .dataframe tbody tr th {\n",
       "        vertical-align: top;\n",
       "    }\n",
       "\n",
       "    .dataframe thead th {\n",
       "        text-align: right;\n",
       "    }\n",
       "</style>\n",
       "<table border=\"1\" class=\"dataframe\">\n",
       "  <thead>\n",
       "    <tr style=\"text-align: right;\">\n",
       "      <th></th>\n",
       "      <th>_unit_id</th>\n",
       "      <th>_golden</th>\n",
       "      <th>_unit_state</th>\n",
       "      <th>_trusted_judgments</th>\n",
       "      <th>_last_judgment_at</th>\n",
       "      <th>gender</th>\n",
       "      <th>gender:confidence</th>\n",
       "      <th>profile_yn</th>\n",
       "      <th>profile_yn:confidence</th>\n",
       "      <th>created</th>\n",
       "      <th>...</th>\n",
       "      <th>profileimage</th>\n",
       "      <th>retweet_count</th>\n",
       "      <th>sidebar_color</th>\n",
       "      <th>text</th>\n",
       "      <th>tweet_coord</th>\n",
       "      <th>tweet_count</th>\n",
       "      <th>tweet_created</th>\n",
       "      <th>tweet_id</th>\n",
       "      <th>tweet_location</th>\n",
       "      <th>user_timezone</th>\n",
       "    </tr>\n",
       "  </thead>\n",
       "  <tbody>\n",
       "    <tr>\n",
       "      <th>0</th>\n",
       "      <td>815719226</td>\n",
       "      <td>False</td>\n",
       "      <td>finalized</td>\n",
       "      <td>3</td>\n",
       "      <td>10/26/15 23:24</td>\n",
       "      <td>male</td>\n",
       "      <td>1.0000</td>\n",
       "      <td>yes</td>\n",
       "      <td>1.0</td>\n",
       "      <td>12/5/13 1:48</td>\n",
       "      <td>...</td>\n",
       "      <td>https://pbs.twimg.com/profile_images/414342229...</td>\n",
       "      <td>0</td>\n",
       "      <td>FFFFFF</td>\n",
       "      <td>Robbie E Responds To Critics After Win Against...</td>\n",
       "      <td>NaN</td>\n",
       "      <td>110964</td>\n",
       "      <td>10/26/15 12:40</td>\n",
       "      <td>6.587300e+17</td>\n",
       "      <td>main; @Kan1shk3</td>\n",
       "      <td>Chennai</td>\n",
       "    </tr>\n",
       "    <tr>\n",
       "      <th>1</th>\n",
       "      <td>815719227</td>\n",
       "      <td>False</td>\n",
       "      <td>finalized</td>\n",
       "      <td>3</td>\n",
       "      <td>10/26/15 23:30</td>\n",
       "      <td>male</td>\n",
       "      <td>1.0000</td>\n",
       "      <td>yes</td>\n",
       "      <td>1.0</td>\n",
       "      <td>10/1/12 13:51</td>\n",
       "      <td>...</td>\n",
       "      <td>https://pbs.twimg.com/profile_images/539604221...</td>\n",
       "      <td>0</td>\n",
       "      <td>C0DEED</td>\n",
       "      <td>ÛÏIt felt like they were my friends and I was...</td>\n",
       "      <td>NaN</td>\n",
       "      <td>7471</td>\n",
       "      <td>10/26/15 12:40</td>\n",
       "      <td>6.587300e+17</td>\n",
       "      <td>NaN</td>\n",
       "      <td>Eastern Time (US &amp; Canada)</td>\n",
       "    </tr>\n",
       "    <tr>\n",
       "      <th>2</th>\n",
       "      <td>815719228</td>\n",
       "      <td>False</td>\n",
       "      <td>finalized</td>\n",
       "      <td>3</td>\n",
       "      <td>10/26/15 23:33</td>\n",
       "      <td>male</td>\n",
       "      <td>0.6625</td>\n",
       "      <td>yes</td>\n",
       "      <td>1.0</td>\n",
       "      <td>11/28/14 11:30</td>\n",
       "      <td>...</td>\n",
       "      <td>https://pbs.twimg.com/profile_images/657330418...</td>\n",
       "      <td>1</td>\n",
       "      <td>C0DEED</td>\n",
       "      <td>i absolutely adore when louis starts the songs...</td>\n",
       "      <td>NaN</td>\n",
       "      <td>5617</td>\n",
       "      <td>10/26/15 12:40</td>\n",
       "      <td>6.587300e+17</td>\n",
       "      <td>clcncl</td>\n",
       "      <td>Belgrade</td>\n",
       "    </tr>\n",
       "    <tr>\n",
       "      <th>3</th>\n",
       "      <td>815719229</td>\n",
       "      <td>False</td>\n",
       "      <td>finalized</td>\n",
       "      <td>3</td>\n",
       "      <td>10/26/15 23:10</td>\n",
       "      <td>male</td>\n",
       "      <td>1.0000</td>\n",
       "      <td>yes</td>\n",
       "      <td>1.0</td>\n",
       "      <td>6/11/09 22:39</td>\n",
       "      <td>...</td>\n",
       "      <td>https://pbs.twimg.com/profile_images/259703936...</td>\n",
       "      <td>0</td>\n",
       "      <td>C0DEED</td>\n",
       "      <td>Hi @JordanSpieth - Looking at the url - do you...</td>\n",
       "      <td>NaN</td>\n",
       "      <td>1693</td>\n",
       "      <td>10/26/15 12:40</td>\n",
       "      <td>6.587300e+17</td>\n",
       "      <td>Palo Alto, CA</td>\n",
       "      <td>Pacific Time (US &amp; Canada)</td>\n",
       "    </tr>\n",
       "    <tr>\n",
       "      <th>4</th>\n",
       "      <td>815719230</td>\n",
       "      <td>False</td>\n",
       "      <td>finalized</td>\n",
       "      <td>3</td>\n",
       "      <td>10/27/15 1:15</td>\n",
       "      <td>female</td>\n",
       "      <td>1.0000</td>\n",
       "      <td>yes</td>\n",
       "      <td>1.0</td>\n",
       "      <td>4/16/14 13:23</td>\n",
       "      <td>...</td>\n",
       "      <td>https://pbs.twimg.com/profile_images/564094871...</td>\n",
       "      <td>0</td>\n",
       "      <td>0</td>\n",
       "      <td>Watching Neighbours on Sky+ catching up with t...</td>\n",
       "      <td>NaN</td>\n",
       "      <td>31462</td>\n",
       "      <td>10/26/15 12:40</td>\n",
       "      <td>6.587300e+17</td>\n",
       "      <td>NaN</td>\n",
       "      <td>NaN</td>\n",
       "    </tr>\n",
       "  </tbody>\n",
       "</table>\n",
       "<p>5 rows × 26 columns</p>\n",
       "</div>"
      ],
      "text/plain": [
       "    _unit_id  _golden _unit_state  _trusted_judgments _last_judgment_at  \\\n",
       "0  815719226    False   finalized                   3    10/26/15 23:24   \n",
       "1  815719227    False   finalized                   3    10/26/15 23:30   \n",
       "2  815719228    False   finalized                   3    10/26/15 23:33   \n",
       "3  815719229    False   finalized                   3    10/26/15 23:10   \n",
       "4  815719230    False   finalized                   3     10/27/15 1:15   \n",
       "\n",
       "   gender  gender:confidence profile_yn  profile_yn:confidence  \\\n",
       "0    male             1.0000        yes                    1.0   \n",
       "1    male             1.0000        yes                    1.0   \n",
       "2    male             0.6625        yes                    1.0   \n",
       "3    male             1.0000        yes                    1.0   \n",
       "4  female             1.0000        yes                    1.0   \n",
       "\n",
       "          created  ...                                       profileimage  \\\n",
       "0    12/5/13 1:48  ...  https://pbs.twimg.com/profile_images/414342229...   \n",
       "1   10/1/12 13:51  ...  https://pbs.twimg.com/profile_images/539604221...   \n",
       "2  11/28/14 11:30  ...  https://pbs.twimg.com/profile_images/657330418...   \n",
       "3   6/11/09 22:39  ...  https://pbs.twimg.com/profile_images/259703936...   \n",
       "4   4/16/14 13:23  ...  https://pbs.twimg.com/profile_images/564094871...   \n",
       "\n",
       "   retweet_count sidebar_color  \\\n",
       "0              0        FFFFFF   \n",
       "1              0        C0DEED   \n",
       "2              1        C0DEED   \n",
       "3              0        C0DEED   \n",
       "4              0             0   \n",
       "\n",
       "                                                text tweet_coord tweet_count  \\\n",
       "0  Robbie E Responds To Critics After Win Against...         NaN      110964   \n",
       "1  ÛÏIt felt like they were my friends and I was...         NaN        7471   \n",
       "2  i absolutely adore when louis starts the songs...         NaN        5617   \n",
       "3  Hi @JordanSpieth - Looking at the url - do you...         NaN        1693   \n",
       "4  Watching Neighbours on Sky+ catching up with t...         NaN       31462   \n",
       "\n",
       "    tweet_created      tweet_id   tweet_location               user_timezone  \n",
       "0  10/26/15 12:40  6.587300e+17  main; @Kan1shk3                     Chennai  \n",
       "1  10/26/15 12:40  6.587300e+17              NaN  Eastern Time (US & Canada)  \n",
       "2  10/26/15 12:40  6.587300e+17           clcncl                    Belgrade  \n",
       "3  10/26/15 12:40  6.587300e+17    Palo Alto, CA  Pacific Time (US & Canada)  \n",
       "4  10/26/15 12:40  6.587300e+17              NaN                         NaN  \n",
       "\n",
       "[5 rows x 26 columns]"
      ]
     },
     "execution_count": 2,
     "metadata": {},
     "output_type": "execute_result"
    }
   ],
   "source": [
    "twitter = pd.read_csv('Information.csv',encoding='latin-1')\n",
    "twitter.head()"
   ]
  },
  {
   "cell_type": "code",
   "execution_count": 3,
   "metadata": {},
   "outputs": [
    {
     "data": {
      "text/plain": [
       "(20050, 26)"
      ]
     },
     "execution_count": 3,
     "metadata": {},
     "output_type": "execute_result"
    }
   ],
   "source": [
    "twitter.shape"
   ]
  },
  {
   "cell_type": "code",
   "execution_count": 4,
   "metadata": {},
   "outputs": [
    {
     "data": {
      "text/html": [
       "<div>\n",
       "<style scoped>\n",
       "    .dataframe tbody tr th:only-of-type {\n",
       "        vertical-align: middle;\n",
       "    }\n",
       "\n",
       "    .dataframe tbody tr th {\n",
       "        vertical-align: top;\n",
       "    }\n",
       "\n",
       "    .dataframe thead th {\n",
       "        text-align: right;\n",
       "    }\n",
       "</style>\n",
       "<table border=\"1\" class=\"dataframe\">\n",
       "  <thead>\n",
       "    <tr style=\"text-align: right;\">\n",
       "      <th></th>\n",
       "      <th>_unit_id</th>\n",
       "      <th>_trusted_judgments</th>\n",
       "      <th>gender:confidence</th>\n",
       "      <th>profile_yn:confidence</th>\n",
       "      <th>fav_number</th>\n",
       "      <th>retweet_count</th>\n",
       "      <th>tweet_count</th>\n",
       "      <th>tweet_id</th>\n",
       "    </tr>\n",
       "  </thead>\n",
       "  <tbody>\n",
       "    <tr>\n",
       "      <th>count</th>\n",
       "      <td>2.005000e+04</td>\n",
       "      <td>20050.000000</td>\n",
       "      <td>20024.000000</td>\n",
       "      <td>20050.000000</td>\n",
       "      <td>20050.000000</td>\n",
       "      <td>20050.000000</td>\n",
       "      <td>2.005000e+04</td>\n",
       "      <td>2.005000e+04</td>\n",
       "    </tr>\n",
       "    <tr>\n",
       "      <th>mean</th>\n",
       "      <td>8.157294e+08</td>\n",
       "      <td>3.615711</td>\n",
       "      <td>0.882756</td>\n",
       "      <td>0.993221</td>\n",
       "      <td>4382.201646</td>\n",
       "      <td>0.079401</td>\n",
       "      <td>3.892469e+04</td>\n",
       "      <td>6.587350e+17</td>\n",
       "    </tr>\n",
       "    <tr>\n",
       "      <th>std</th>\n",
       "      <td>6.000801e+03</td>\n",
       "      <td>12.331890</td>\n",
       "      <td>0.191403</td>\n",
       "      <td>0.047168</td>\n",
       "      <td>12518.575919</td>\n",
       "      <td>2.649751</td>\n",
       "      <td>1.168371e+05</td>\n",
       "      <td>5.000124e+12</td>\n",
       "    </tr>\n",
       "    <tr>\n",
       "      <th>min</th>\n",
       "      <td>8.157192e+08</td>\n",
       "      <td>3.000000</td>\n",
       "      <td>0.000000</td>\n",
       "      <td>0.627200</td>\n",
       "      <td>0.000000</td>\n",
       "      <td>0.000000</td>\n",
       "      <td>1.000000e+00</td>\n",
       "      <td>6.587300e+17</td>\n",
       "    </tr>\n",
       "    <tr>\n",
       "      <th>25%</th>\n",
       "      <td>8.157243e+08</td>\n",
       "      <td>3.000000</td>\n",
       "      <td>0.677800</td>\n",
       "      <td>1.000000</td>\n",
       "      <td>11.000000</td>\n",
       "      <td>0.000000</td>\n",
       "      <td>2.398000e+03</td>\n",
       "      <td>6.587300e+17</td>\n",
       "    </tr>\n",
       "    <tr>\n",
       "      <th>50%</th>\n",
       "      <td>8.157294e+08</td>\n",
       "      <td>3.000000</td>\n",
       "      <td>1.000000</td>\n",
       "      <td>1.000000</td>\n",
       "      <td>456.000000</td>\n",
       "      <td>0.000000</td>\n",
       "      <td>1.144150e+04</td>\n",
       "      <td>6.587300e+17</td>\n",
       "    </tr>\n",
       "    <tr>\n",
       "      <th>75%</th>\n",
       "      <td>8.157345e+08</td>\n",
       "      <td>3.000000</td>\n",
       "      <td>1.000000</td>\n",
       "      <td>1.000000</td>\n",
       "      <td>3315.500000</td>\n",
       "      <td>0.000000</td>\n",
       "      <td>4.002750e+04</td>\n",
       "      <td>6.587400e+17</td>\n",
       "    </tr>\n",
       "    <tr>\n",
       "      <th>max</th>\n",
       "      <td>8.157580e+08</td>\n",
       "      <td>274.000000</td>\n",
       "      <td>1.000000</td>\n",
       "      <td>1.000000</td>\n",
       "      <td>341621.000000</td>\n",
       "      <td>330.000000</td>\n",
       "      <td>2.680199e+06</td>\n",
       "      <td>6.587400e+17</td>\n",
       "    </tr>\n",
       "  </tbody>\n",
       "</table>\n",
       "</div>"
      ],
      "text/plain": [
       "           _unit_id  _trusted_judgments  gender:confidence  \\\n",
       "count  2.005000e+04        20050.000000       20024.000000   \n",
       "mean   8.157294e+08            3.615711           0.882756   \n",
       "std    6.000801e+03           12.331890           0.191403   \n",
       "min    8.157192e+08            3.000000           0.000000   \n",
       "25%    8.157243e+08            3.000000           0.677800   \n",
       "50%    8.157294e+08            3.000000           1.000000   \n",
       "75%    8.157345e+08            3.000000           1.000000   \n",
       "max    8.157580e+08          274.000000           1.000000   \n",
       "\n",
       "       profile_yn:confidence     fav_number  retweet_count   tweet_count  \\\n",
       "count           20050.000000   20050.000000   20050.000000  2.005000e+04   \n",
       "mean                0.993221    4382.201646       0.079401  3.892469e+04   \n",
       "std                 0.047168   12518.575919       2.649751  1.168371e+05   \n",
       "min                 0.627200       0.000000       0.000000  1.000000e+00   \n",
       "25%                 1.000000      11.000000       0.000000  2.398000e+03   \n",
       "50%                 1.000000     456.000000       0.000000  1.144150e+04   \n",
       "75%                 1.000000    3315.500000       0.000000  4.002750e+04   \n",
       "max                 1.000000  341621.000000     330.000000  2.680199e+06   \n",
       "\n",
       "           tweet_id  \n",
       "count  2.005000e+04  \n",
       "mean   6.587350e+17  \n",
       "std    5.000124e+12  \n",
       "min    6.587300e+17  \n",
       "25%    6.587300e+17  \n",
       "50%    6.587300e+17  \n",
       "75%    6.587400e+17  \n",
       "max    6.587400e+17  "
      ]
     },
     "execution_count": 4,
     "metadata": {},
     "output_type": "execute_result"
    }
   ],
   "source": [
    "twitter.describe()"
   ]
  },
  {
   "cell_type": "code",
   "execution_count": 5,
   "metadata": {},
   "outputs": [
    {
     "name": "stdout",
     "output_type": "stream",
     "text": [
      "<class 'pandas.core.frame.DataFrame'>\n",
      "RangeIndex: 20050 entries, 0 to 20049\n",
      "Data columns (total 26 columns):\n",
      " #   Column                 Non-Null Count  Dtype  \n",
      "---  ------                 --------------  -----  \n",
      " 0   _unit_id               20050 non-null  int64  \n",
      " 1   _golden                20050 non-null  bool   \n",
      " 2   _unit_state            20050 non-null  object \n",
      " 3   _trusted_judgments     20050 non-null  int64  \n",
      " 4   _last_judgment_at      20000 non-null  object \n",
      " 5   gender                 19953 non-null  object \n",
      " 6   gender:confidence      20024 non-null  float64\n",
      " 7   profile_yn             20050 non-null  object \n",
      " 8   profile_yn:confidence  20050 non-null  float64\n",
      " 9   created                20050 non-null  object \n",
      " 10  description            16306 non-null  object \n",
      " 11  fav_number             20050 non-null  int64  \n",
      " 12  gender_gold            50 non-null     object \n",
      " 13  link_color             20050 non-null  object \n",
      " 14  name                   20050 non-null  object \n",
      " 15  profile_yn_gold        50 non-null     object \n",
      " 16  profileimage           20050 non-null  object \n",
      " 17  retweet_count          20050 non-null  int64  \n",
      " 18  sidebar_color          20050 non-null  object \n",
      " 19  text                   20050 non-null  object \n",
      " 20  tweet_coord            159 non-null    object \n",
      " 21  tweet_count            20050 non-null  int64  \n",
      " 22  tweet_created          20050 non-null  object \n",
      " 23  tweet_id               20050 non-null  float64\n",
      " 24  tweet_location         12566 non-null  object \n",
      " 25  user_timezone          12252 non-null  object \n",
      "dtypes: bool(1), float64(3), int64(5), object(17)\n",
      "memory usage: 3.8+ MB\n"
     ]
    }
   ],
   "source": [
    "twitter.info()"
   ]
  },
  {
   "cell_type": "code",
   "execution_count": 6,
   "metadata": {},
   "outputs": [
    {
     "data": {
      "text/plain": [
       "Index(['_unit_id', '_golden', '_unit_state', '_trusted_judgments',\n",
       "       '_last_judgment_at', 'gender', 'gender:confidence', 'profile_yn',\n",
       "       'profile_yn:confidence', 'created', 'description', 'fav_number',\n",
       "       'gender_gold', 'link_color', 'name', 'profile_yn_gold', 'profileimage',\n",
       "       'retweet_count', 'sidebar_color', 'text', 'tweet_coord', 'tweet_count',\n",
       "       'tweet_created', 'tweet_id', 'tweet_location', 'user_timezone'],\n",
       "      dtype='object')"
      ]
     },
     "execution_count": 6,
     "metadata": {},
     "output_type": "execute_result"
    }
   ],
   "source": [
    "twitter.columns"
   ]
  },
  {
   "cell_type": "code",
   "execution_count": 7,
   "metadata": {},
   "outputs": [
    {
     "data": {
      "text/plain": [
       "_unit_id                     0\n",
       "_golden                      0\n",
       "_unit_state                  0\n",
       "_trusted_judgments           0\n",
       "_last_judgment_at           50\n",
       "gender                      97\n",
       "gender:confidence           26\n",
       "profile_yn                   0\n",
       "profile_yn:confidence        0\n",
       "created                      0\n",
       "description               3744\n",
       "fav_number                   0\n",
       "gender_gold              20000\n",
       "link_color                   0\n",
       "name                         0\n",
       "profile_yn_gold          20000\n",
       "profileimage                 0\n",
       "retweet_count                0\n",
       "sidebar_color                0\n",
       "text                         0\n",
       "tweet_coord              19891\n",
       "tweet_count                  0\n",
       "tweet_created                0\n",
       "tweet_id                     0\n",
       "tweet_location            7484\n",
       "user_timezone             7798\n",
       "dtype: int64"
      ]
     },
     "execution_count": 7,
     "metadata": {},
     "output_type": "execute_result"
    }
   ],
   "source": [
    "twitter.isnull().sum()"
   ]
  },
  {
   "cell_type": "code",
   "execution_count": 8,
   "metadata": {},
   "outputs": [
    {
     "data": {
      "text/plain": [
       "151386     30\n",
       "1          26\n",
       "2372591    24\n",
       "3          24\n",
       "2          21\n",
       "           ..\n",
       "57126       1\n",
       "15103       1\n",
       "13054       1\n",
       "4858        1\n",
       "100353      1\n",
       "Name: tweet_count, Length: 14280, dtype: int64"
      ]
     },
     "execution_count": 8,
     "metadata": {},
     "output_type": "execute_result"
    }
   ],
   "source": [
    "twitter['tweet_count'].value_counts()"
   ]
  },
  {
   "cell_type": "code",
   "execution_count": 9,
   "metadata": {},
   "outputs": [
    {
     "data": {
      "text/plain": [
       "0      19431\n",
       "1        499\n",
       "2         56\n",
       "3         17\n",
       "6          8\n",
       "5          7\n",
       "4          6\n",
       "7          5\n",
       "8          3\n",
       "11         3\n",
       "10         2\n",
       "12         2\n",
       "20         2\n",
       "19         1\n",
       "49         1\n",
       "330        1\n",
       "36         1\n",
       "153        1\n",
       "13         1\n",
       "23         1\n",
       "9          1\n",
       "15         1\n",
       "Name: retweet_count, dtype: int64"
      ]
     },
     "execution_count": 9,
     "metadata": {},
     "output_type": "execute_result"
    }
   ],
   "source": [
    "twitter['retweet_count'].value_counts()"
   ]
  },
  {
   "cell_type": "code",
   "execution_count": 10,
   "metadata": {},
   "outputs": [
    {
     "data": {
      "text/plain": [
       "<matplotlib.axes._subplots.AxesSubplot at 0x7f7a6876efd0>"
      ]
     },
     "execution_count": 10,
     "metadata": {},
     "output_type": "execute_result"
    },
    {
     "data": {
      "image/png": "[encoded data removed]",
      "text/plain": [
       "<Figure size 432x288 with 1 Axes>"
      ]
     },
     "metadata": {
      "needs_background": "light"
     },
     "output_type": "display_data"
    }
   ],
   "source": [
    "sns.barplot (x = 'gender', y = 'tweet_count',data = twitter)"
   ]
  },
  {
   "cell_type": "code",
   "execution_count": 11,
   "metadata": {},
   "outputs": [
    {
     "data": {
      "text/plain": [
       "<matplotlib.axes._subplots.AxesSubplot at 0x7f7a67f16a90>"
      ]
     },
     "execution_count": 11,
     "metadata": {},
     "output_type": "execute_result"
    },
    {
     "data": {
      "image/png": "[encoded data removed]",
      "text/plain": [
       "<Figure size 432x288 with 1 Axes>"
      ]
     },
     "metadata": {
      "needs_background": "light"
     },
     "output_type": "display_data"
    }
   ],
   "source": [
    "sns.barplot (x = 'gender', y = 'retweet_count',data = twitter)"
   ]
  },
  {
   "cell_type": "code",
   "execution_count": 12,
   "metadata": {},
   "outputs": [
    {
     "data": {
      "text/plain": [
       "<matplotlib.axes._subplots.AxesSubplot at 0x7f7a67e7f880>"
      ]
     },
     "execution_count": 12,
     "metadata": {},
     "output_type": "execute_result"
    },
    {
     "data": {
      "image/png": "[encoded data removed]",
      "text/plain": [
       "<Figure size 1080x1080 with 1 Axes>"
      ]
     },
     "metadata": {
      "needs_background": "light"
     },
     "output_type": "display_data"
    }
   ],
   "source": [
    "# Visualizing null values to get a better idea of the dataset & it's trends\n",
    "\n",
    "plt.subplots(figsize=(15,15))\n",
    "sns.heatmap(twitter.isnull(), cbar=False)"
   ]
  },
  {
   "cell_type": "code",
   "execution_count": null,
   "metadata": {},
   "outputs": [],
   "source": []
  },
  {
   "cell_type": "markdown",
   "metadata": {},
   "source": [
    "## __Data Exploration & Feature Engineering__\n",
    "Here we are going to explore the relationships of the independent and dependent variables, modify the features and look for anomalies to present a better dataset for the ML models."
   ]
  },
  {
   "cell_type": "markdown",
   "metadata": {},
   "source": [
    "As by observing the above representations\n",
    "We will reduce down to only the following columns which are required for ML algorithm implimentation :\n",
    "\n",
    "   1. 'gender'\n",
    "   2. 'link_color'\n",
    "   3. 'sidebar_color'\n",
    "   4. 'text'\n",
    "   4. 'description'"
   ]
  },
  {
   "cell_type": "code",
   "execution_count": 13,
   "metadata": {},
   "outputs": [],
   "source": [
    "#Dropping irrelevant columns from dataset\n",
    "\n",
    "twitter = twitter.drop(['_unit_id', '_golden', '_unit_state', '_last_judgment_at', 'gender:confidence', 'profile_yn', 'profile_yn:confidence', \n",
    "                        'created', 'fav_number', 'gender_gold', 'name', 'profile_yn_gold', 'profileimage', 'retweet_count', \n",
    "                        'tweet_coord', 'tweet_count', 'tweet_created', 'tweet_id', 'tweet_location', 'user_timezone', \n",
    "                        '_trusted_judgments'], axis = 1)"
   ]
  },
  {
   "cell_type": "code",
   "execution_count": 14,
   "metadata": {},
   "outputs": [
    {
     "data": {
      "text/html": [
       "<div>\n",
       "<style scoped>\n",
       "    .dataframe tbody tr th:only-of-type {\n",
       "        vertical-align: middle;\n",
       "    }\n",
       "\n",
       "    .dataframe tbody tr th {\n",
       "        vertical-align: top;\n",
       "    }\n",
       "\n",
       "    .dataframe thead th {\n",
       "        text-align: right;\n",
       "    }\n",
       "</style>\n",
       "<table border=\"1\" class=\"dataframe\">\n",
       "  <thead>\n",
       "    <tr style=\"text-align: right;\">\n",
       "      <th></th>\n",
       "      <th>gender</th>\n",
       "      <th>description</th>\n",
       "      <th>link_color</th>\n",
       "      <th>sidebar_color</th>\n",
       "      <th>text</th>\n",
       "    </tr>\n",
       "  </thead>\n",
       "  <tbody>\n",
       "    <tr>\n",
       "      <th>0</th>\n",
       "      <td>male</td>\n",
       "      <td>i sing my own rhythm.</td>\n",
       "      <td>08C2C2</td>\n",
       "      <td>FFFFFF</td>\n",
       "      <td>Robbie E Responds To Critics After Win Against...</td>\n",
       "    </tr>\n",
       "    <tr>\n",
       "      <th>1</th>\n",
       "      <td>male</td>\n",
       "      <td>I'm the author of novels filled with family dr...</td>\n",
       "      <td>0084B4</td>\n",
       "      <td>C0DEED</td>\n",
       "      <td>ÛÏIt felt like they were my friends and I was...</td>\n",
       "    </tr>\n",
       "    <tr>\n",
       "      <th>2</th>\n",
       "      <td>male</td>\n",
       "      <td>louis whining and squealing and all</td>\n",
       "      <td>ABB8C2</td>\n",
       "      <td>C0DEED</td>\n",
       "      <td>i absolutely adore when louis starts the songs...</td>\n",
       "    </tr>\n",
       "    <tr>\n",
       "      <th>3</th>\n",
       "      <td>male</td>\n",
       "      <td>Mobile guy.  49ers, Shazam, Google, Kleiner Pe...</td>\n",
       "      <td>0084B4</td>\n",
       "      <td>C0DEED</td>\n",
       "      <td>Hi @JordanSpieth - Looking at the url - do you...</td>\n",
       "    </tr>\n",
       "    <tr>\n",
       "      <th>4</th>\n",
       "      <td>female</td>\n",
       "      <td>Ricky Wilson The Best FRONTMAN/Kaiser Chiefs T...</td>\n",
       "      <td>3B94D9</td>\n",
       "      <td>0</td>\n",
       "      <td>Watching Neighbours on Sky+ catching up with t...</td>\n",
       "    </tr>\n",
       "  </tbody>\n",
       "</table>\n",
       "</div>"
      ],
      "text/plain": [
       "   gender                                        description link_color  \\\n",
       "0    male                              i sing my own rhythm.     08C2C2   \n",
       "1    male  I'm the author of novels filled with family dr...     0084B4   \n",
       "2    male                louis whining and squealing and all     ABB8C2   \n",
       "3    male  Mobile guy.  49ers, Shazam, Google, Kleiner Pe...     0084B4   \n",
       "4  female  Ricky Wilson The Best FRONTMAN/Kaiser Chiefs T...     3B94D9   \n",
       "\n",
       "  sidebar_color                                               text  \n",
       "0        FFFFFF  Robbie E Responds To Critics After Win Against...  \n",
       "1        C0DEED  ÛÏIt felt like they were my friends and I was...  \n",
       "2        C0DEED  i absolutely adore when louis starts the songs...  \n",
       "3        C0DEED  Hi @JordanSpieth - Looking at the url - do you...  \n",
       "4             0  Watching Neighbours on Sky+ catching up with t...  "
      ]
     },
     "execution_count": 14,
     "metadata": {},
     "output_type": "execute_result"
    }
   ],
   "source": [
    "# dropping all the null values from 'gender'\n",
    "\n",
    "twitter = twitter.dropna(subset=['gender'],how ='any')  \n",
    "twitter.head()"
   ]
  },
  {
   "cell_type": "code",
   "execution_count": 15,
   "metadata": {},
   "outputs": [
    {
     "data": {
      "text/plain": [
       "female     6700\n",
       "male       6194\n",
       "brand      5942\n",
       "unknown    1117\n",
       "Name: gender, dtype: int64"
      ]
     },
     "execution_count": 15,
     "metadata": {},
     "output_type": "execute_result"
    }
   ],
   "source": [
    "twitter['gender'].value_counts(dropna=False) "
   ]
  },
  {
   "cell_type": "code",
   "execution_count": 16,
   "metadata": {},
   "outputs": [
    {
     "data": {
      "text/plain": [
       "<matplotlib.axes._subplots.AxesSubplot at 0x7f7a67703310>"
      ]
     },
     "execution_count": 16,
     "metadata": {},
     "output_type": "execute_result"
    },
    {
     "data": {
      "image/png": "[encoded data removed]",
      "text/plain": [
       "<Figure size 432x288 with 1 Axes>"
      ]
     },
     "metadata": {
      "needs_background": "light"
     },
     "output_type": "display_data"
    }
   ],
   "source": [
    "#visualising the gender counts\n",
    "\n",
    "sns.countplot(twitter['gender'],label=\"Gender\")"
   ]
  },
  {
   "cell_type": "code",
   "execution_count": 17,
   "metadata": {},
   "outputs": [
    {
     "data": {
      "text/plain": [
       "female    6700\n",
       "male      6194\n",
       "brand     5942\n",
       "Name: gender, dtype: int64"
      ]
     },
     "execution_count": 17,
     "metadata": {},
     "output_type": "execute_result"
    }
   ],
   "source": [
    "#getting rid of the unknown column\n",
    "\n",
    "drop_items_idx = twitter[twitter['gender'] == 'unknown'].index\n",
    "\n",
    "twitter.drop (index = drop_items_idx, inplace = True)\n",
    "\n",
    "twitter['gender'].value_counts()"
   ]
  },
  {
   "cell_type": "markdown",
   "metadata": {},
   "source": [
    "### __Text Analysis :__"
   ]
  },
  {
   "cell_type": "code",
   "execution_count": 18,
   "metadata": {},
   "outputs": [],
   "source": [
    "# As we saw from the heatmap, that there are multiple NaN values in the description column\n",
    "\n",
    "twitter = twitter.dropna(subset=['description'],how ='any')  "
   ]
  },
  {
   "cell_type": "code",
   "execution_count": 19,
   "metadata": {},
   "outputs": [
    {
     "data": {
      "text/plain": [
       "[('the', 9759),\n",
       " ('and', 9243),\n",
       " ('to', 4840),\n",
       " ('I', 3894),\n",
       " ('a', 3564),\n",
       " ('of', 3215),\n",
       " ('in', 2629),\n",
       " ('you', 2607),\n",
       " ('for', 2556),\n",
       " ('is', 2245),\n",
       " ('The', 1842),\n",
       " ('on', 1813),\n",
       " ('my', 1593),\n",
       " ('', 1411),\n",
       " ('it', 1382),\n",
       " ('with', 1312),\n",
       " ('that', 1242),\n",
       " ('me', 1159),\n",
       " ('at', 1094),\n",
       " ('be', 1053)]"
      ]
     },
     "execution_count": 19,
     "metadata": {},
     "output_type": "execute_result"
    }
   ],
   "source": [
    "# Identifying the most commonly used words in \"text\"\n",
    "\n",
    "common_text = Counter()\n",
    "for common in twitter['text']:\n",
    "    for word in common.split(' '):\n",
    "        common_text[word] += 1\n",
    "        \n",
    "\n",
    "common_text.most_common(20)"
   ]
  },
  {
   "cell_type": "code",
   "execution_count": 20,
   "metadata": {},
   "outputs": [
    {
     "data": {
      "text/plain": [
       "[('', 5092),\n",
       " ('and', 4982),\n",
       " ('the', 3961),\n",
       " ('of', 3300),\n",
       " ('a', 2874),\n",
       " ('to', 2857),\n",
       " ('I', 2333),\n",
       " ('for', 2152),\n",
       " ('|', 2147),\n",
       " ('in', 2008),\n",
       " ('&', 1976),\n",
       " ('is', 1699),\n",
       " ('my', 1560),\n",
       " ('you', 1228),\n",
       " ('on', 1068),\n",
       " ('with', 991),\n",
       " ('-', 930),\n",
       " ('The', 920),\n",
       " ('at', 830),\n",
       " ('your', 687)]"
      ]
     },
     "execution_count": 20,
     "metadata": {},
     "output_type": "execute_result"
    }
   ],
   "source": [
    "# Identifying the most commonly used words in \"description\"\n",
    "\n",
    "common_desc = Counter()\n",
    "for common in twitter['description']:\n",
    "    for word in common.split(' '):\n",
    "        common_desc[word] += 1\n",
    "        \n",
    "common_desc.most_common(20)"
   ]
  },
  {
   "cell_type": "markdown",
   "metadata": {},
   "source": [
    "### Text cleaning\n",
    "In this phase, we will filtering out text and perform other functions like Normalizing, Lemmatizing etc"
   ]
  },
  {
   "cell_type": "code",
   "execution_count": 21,
   "metadata": {},
   "outputs": [
    {
     "data": {
      "text/plain": [
       "0    robbie e responds to critics after win against...\n",
       "1     ûïit felt like they were my friends and i was...\n",
       "2    i absolutely adore when louis starts the songs...\n",
       "3    hi jordanspieth looking at the url do you use ...\n",
       "4    watching neighbours on sky catching up with th...\n",
       "Name: text, dtype: object"
      ]
     },
     "execution_count": 21,
     "metadata": {},
     "output_type": "execute_result"
    }
   ],
   "source": [
    "# Junk words & letters other than the English vocab words are filtered out\n",
    "\n",
    "def cleaning(s):\n",
    "    s = str(s)\n",
    "    s = s.lower()\n",
    "    s = s.replace(\",\",\"\")\n",
    "    s = re.sub('[!@#$_]', '', s)\n",
    "    s = re.sub('\\W,\\s',' ',s)\n",
    "    s = re.sub(r'[^\\w]', ' ', s)\n",
    "    s = re.sub('\\s\\W',' ',s)\n",
    "    s = re.sub(\"\\d+\", \"\", s)\n",
    "    s = re.sub('\\s+',' ',s)\n",
    "    s = s.replace(\"co\",\"\")\n",
    "    s = s.replace(\"https\",\"\")\n",
    "    s = s.replace(\"[\\w*\",\" \")\n",
    "\n",
    "    return s\n",
    "\n",
    "twitter['text'] = [cleaning(s) for s in twitter['text']]\n",
    "twitter['text'].head()"
   ]
  },
  {
   "cell_type": "code",
   "execution_count": 22,
   "metadata": {},
   "outputs": [],
   "source": [
    "from nltk.stem import PorterStemmer\n",
    "\n",
    "porter = PorterStemmer()\n",
    "\n",
    "def tokenizer(text):\n",
    "    return text.split()\n",
    "\n",
    "def tokenizer_porter(text):\n",
    "    return [porter.stem(word) for word in text.split()]"
   ]
  },
  {
   "cell_type": "code",
   "execution_count": 23,
   "metadata": {},
   "outputs": [],
   "source": [
    "from nltk.stem import PorterStemmer\n",
    "\n",
    "porter = PorterStemmer()\n",
    "\n",
    "def tokenizer(description):\n",
    "    return description.split()\n",
    "\n",
    "def tokenizer_porter(description):\n",
    "    return [porter.stem(word) for word in description.split()]"
   ]
  },
  {
   "cell_type": "code",
   "execution_count": 24,
   "metadata": {},
   "outputs": [],
   "source": [
    "# Merging the 'text' & 'description' to combine all sorts of text and then find out common words\n",
    "\n",
    "twitter['text_description'] = twitter['text'].str.cat(twitter['description'], sep=' ')"
   ]
  },
  {
   "cell_type": "code",
   "execution_count": 25,
   "metadata": {},
   "outputs": [
    {
     "data": {
      "text/plain": [
       "[('', 24007),\n",
       " ('the', 16052),\n",
       " ('and', 15292),\n",
       " ('t', 8559),\n",
       " ('to', 7949),\n",
       " ('a', 6853),\n",
       " ('of', 6781),\n",
       " ('i', 6438),\n",
       " ('in', 4948),\n",
       " ('for', 4878),\n",
       " ('you', 4859),\n",
       " ('is', 4202),\n",
       " ('my', 3447),\n",
       " ('on', 3078),\n",
       " ('it', 2965),\n",
       " ('me', 2450),\n",
       " ('with', 2418),\n",
       " ('I', 2333),\n",
       " ('that', 2234),\n",
       " ('s', 2185),\n",
       " ('|', 2147),\n",
       " ('at', 2038),\n",
       " ('&', 1976),\n",
       " ('be', 1799),\n",
       " ('your', 1786)]"
      ]
     },
     "execution_count": 25,
     "metadata": {},
     "output_type": "execute_result"
    }
   ],
   "source": [
    "# Most commonly used words used in combined 'text' & 'description'\n",
    "\n",
    "from collections import Counter\n",
    "words = Counter()\n",
    "for twit in twitter['text_description']:\n",
    "    for x in twit.split(' '):\n",
    "        words[x] += 1\n",
    "\n",
    "words.most_common(25)"
   ]
  },
  {
   "cell_type": "markdown",
   "metadata": {},
   "source": [
    "These are the number of most common stopwords used in the whole dataset\n",
    "These words are considered 'noise' which can be eliminated"
   ]
  },
  {
   "cell_type": "code",
   "execution_count": 26,
   "metadata": {},
   "outputs": [
    {
     "data": {
      "text/plain": [
       "[('', 24007),\n",
       " ('I', 2333),\n",
       " ('|', 2147),\n",
       " ('&', 1976),\n",
       " ('ù', 1640),\n",
       " ('like', 1214),\n",
       " ('love', 1155),\n",
       " ('get', 1102),\n",
       " ('one', 934),\n",
       " ('-', 930),\n",
       " ('The', 920),\n",
       " ('û', 848),\n",
       " ('new', 728),\n",
       " ('time', 701),\n",
       " ('best', 645),\n",
       " ('people', 635),\n",
       " ('day', 628),\n",
       " (\"I'm\", 626),\n",
       " ('life', 601),\n",
       " ('make', 593),\n",
       " ('go', 580),\n",
       " ('know', 576),\n",
       " ('good', 539),\n",
       " ('see', 518),\n",
       " ('us', 505)]"
      ]
     },
     "execution_count": 26,
     "metadata": {},
     "output_type": "execute_result"
    }
   ],
   "source": [
    "from nltk.corpus import stopwords\n",
    "stopwords = stopwords.words('english')\n",
    "words_filtered = Counter()\n",
    "for x, y in words.items():\n",
    "    if not x in stopwords:\n",
    "        words_filtered[x]=y\n",
    "\n",
    "words_filtered.most_common(25)"
   ]
  },
  {
   "cell_type": "markdown",
   "metadata": {},
   "source": [
    "## <u>__Answer 1__ : The most used words by the users are words like Love, Like, Life, Time etc </u>"
   ]
  },
  {
   "cell_type": "code",
   "execution_count": null,
   "metadata": {},
   "outputs": [],
   "source": []
  },
  {
   "cell_type": "markdown",
   "metadata": {},
   "source": [
    "## __Training & Testing of ML algorithms__\n",
    "The following classifiers have been chosen for training on the dataset :-\n",
    "\n",
    "    1. Logistic Regression\n",
    "    2. Random forest\n",
    "    3. SVM Classifier\n",
    "\n",
    "The ML algorithms are trained on each feature of the dataset and the algorithm with the maximum accuracy is the most optimal model for this dataset and the feature that gives maximum accuracy is the optimal feature for classification of this data."
   ]
  },
  {
   "cell_type": "code",
   "execution_count": 27,
   "metadata": {},
   "outputs": [],
   "source": [
    "# The frequency of the words will be helpful in classifying the gender of the users.\n",
    "\n",
    "from sklearn.model_selection import train_test_split\n",
    "from sklearn.preprocessing import LabelEncoder\n",
    "\n",
    "# Setting up training and testing data \n",
    "encoder = LabelEncoder()\n",
    "y = encoder.fit_transform(twitter['gender'])\n",
    "X = twitter['text_description']\n",
    "X_train, X_test, y_train, y_test = train_test_split(X, y, test_size=0.3, random_state=0, stratify=y)"
   ]
  },
  {
   "cell_type": "markdown",
   "metadata": {},
   "source": [
    "#### Modelling on Logistic Regression >>>"
   ]
  },
  {
   "cell_type": "code",
   "execution_count": 28,
   "metadata": {},
   "outputs": [
    {
     "name": "stdout",
     "output_type": "stream",
     "text": [
      "Accuracy: 0.6246510629160403\n"
     ]
    }
   ],
   "source": [
    "from sklearn.linear_model import LogisticRegression\n",
    "from sklearn.pipeline import Pipeline\n",
    "from sklearn.feature_extraction.text import TfidfVectorizer\n",
    "from sklearn.metrics import accuracy_score\n",
    "\n",
    "tfidf = TfidfVectorizer(lowercase=False,\n",
    "                        tokenizer=tokenizer_porter,)\n",
    "clf = Pipeline([('vect', tfidf),\n",
    "                ('clf', LogisticRegression(multi_class='ovr', random_state=0))])\n",
    "\n",
    "clf.fit(X_train, y_train)\n",
    "\n",
    "predictions = clf.predict(X_test)\n",
    "print('Accuracy:',accuracy_score(y_test,predictions))"
   ]
  },
  {
   "cell_type": "markdown",
   "metadata": {},
   "source": [
    "#### Modelling on Random Forest >>>"
   ]
  },
  {
   "cell_type": "code",
   "execution_count": 29,
   "metadata": {},
   "outputs": [
    {
     "name": "stdout",
     "output_type": "stream",
     "text": [
      "Accuracy: 0.5675327464032639\n"
     ]
    }
   ],
   "source": [
    "from sklearn.ensemble import RandomForestClassifier\n",
    "\n",
    "n = range (1,100,10)\n",
    "\n",
    "tfidf = TfidfVectorizer(lowercase=False,\n",
    "                        tokenizer=tokenizer_porter)\n",
    "clf = Pipeline([('vect', tfidf),\n",
    "                ('clf', RandomForestClassifier(n_estimators = 40, random_state=0))])\n",
    "\n",
    "clf.fit(X_train, y_train)\n",
    "\n",
    "predictions = clf.predict(X_test)\n",
    "print('Accuracy:',accuracy_score(y_test,predictions))"
   ]
  },
  {
   "cell_type": "markdown",
   "metadata": {},
   "source": [
    "#### Modelling on SVM >>>"
   ]
  },
  {
   "cell_type": "code",
   "execution_count": 30,
   "metadata": {},
   "outputs": [
    {
     "name": "stdout",
     "output_type": "stream",
     "text": [
      "Accuracy: 0.6237921408632167\n"
     ]
    }
   ],
   "source": [
    "from sklearn.svm import SVC\n",
    "\n",
    "tfidf = TfidfVectorizer(lowercase=False,\n",
    "                        tokenizer=tokenizer_porter)\n",
    "clf = Pipeline([('vect', tfidf),\n",
    "                ('clf', SVC(kernel = 'linear'))])\n",
    "\n",
    "clf.fit(X_train, y_train)\n",
    "\n",
    "predictions = clf.predict(X_test)\n",
    "print('Accuracy:',accuracy_score(y_test,predictions))"
   ]
  },
  {
   "cell_type": "markdown",
   "metadata": {},
   "source": [
    "### __Experimental Results__ :\n",
    "\n",
    "Accuracy:\n",
    "\n",
    "    Logistic Regression: 62.46%\n",
    "    Random Forest: 57.46%\n",
    "    SVM: 62.37%\n",
    "\n",
    "<u>Winner: __Logistic Regression__</u>\n"
   ]
  },
  {
   "cell_type": "code",
   "execution_count": null,
   "metadata": {},
   "outputs": [],
   "source": []
  },
  {
   "cell_type": "markdown",
   "metadata": {},
   "source": [
    "## __Color attribute analysis :__"
   ]
  },
  {
   "cell_type": "markdown",
   "metadata": {},
   "source": [
    "#### Side bar color >>>"
   ]
  },
  {
   "cell_type": "code",
   "execution_count": 31,
   "metadata": {},
   "outputs": [
    {
     "name": "stdout",
     "output_type": "stream",
     "text": [
      "['C0DEED' '0' '000000' 'EEEEEE' '181A1E' 'A8C7F7' '5ED4DC']\n"
     ]
    },
    {
     "data": {
      "text/plain": [
       "<matplotlib.axes._subplots.AxesSubplot at 0x7f7a59101ca0>"
      ]
     },
     "execution_count": 31,
     "metadata": {},
     "output_type": "execute_result"
    },
    {
     "data": {
      "image/png": "[encoded data removed]",
      "text/plain": [
       "<Figure size 432x288 with 1 Axes>"
      ]
     },
     "metadata": {},
     "output_type": "display_data"
    }
   ],
   "source": [
    "male_sidebar_color = twitter[twitter['gender'] == 'male']['sidebar_color'].value_counts().head(7)\n",
    "male_sidebar_color_idx = male_sidebar_color.index\n",
    "male_top_color = male_sidebar_color_idx.values\n",
    "\n",
    "male_top_color[2] = '000000'\n",
    "print (male_top_color)\n",
    "\n",
    "l = lambda x: '#'+x\n",
    "\n",
    "sns.set_style(\"darkgrid\")\n",
    "sns.barplot (x = male_sidebar_color, y = male_top_color) "
   ]
  },
  {
   "cell_type": "code",
   "execution_count": 32,
   "metadata": {},
   "outputs": [
    {
     "name": "stdout",
     "output_type": "stream",
     "text": [
      "['C0DEED' 'FFFFFF' '000000' 'EEEEEE' '65B0DA' '5ED4DC' '181A1E']\n"
     ]
    },
    {
     "data": {
      "text/plain": [
       "<matplotlib.axes._subplots.AxesSubplot at 0x7f7a5984da60>"
      ]
     },
     "execution_count": 32,
     "metadata": {},
     "output_type": "execute_result"
    },
    {
     "data": {
      "image/png": "[encoded data removed]",
      "text/plain": [
       "<Figure size 432x288 with 1 Axes>"
      ]
     },
     "metadata": {},
     "output_type": "display_data"
    }
   ],
   "source": [
    "female_sidebar_color = twitter[twitter['gender'] == 'female']['sidebar_color'].value_counts().head(7)\n",
    "female_sidebar_color_idx = female_sidebar_color.index\n",
    "female_top_color = female_sidebar_color_idx.values\n",
    "\n",
    "female_top_color[2] = '000000'\n",
    "print (female_top_color)\n",
    "\n",
    "l = lambda x: '#'+x\n",
    "\n",
    "sns.set_style(\"darkgrid\")\n",
    "sns.barplot (x = female_sidebar_color, y = female_top_color)"
   ]
  },
  {
   "cell_type": "markdown",
   "metadata": {},
   "source": [
    "#### Link color >>>"
   ]
  },
  {
   "cell_type": "code",
   "execution_count": 33,
   "metadata": {},
   "outputs": [
    {
     "name": "stdout",
     "output_type": "stream",
     "text": [
      "['0084B4' '009999' '3B94D9' '2FC2EF' 'DD2E44' '000000' '0']\n"
     ]
    },
    {
     "data": {
      "text/plain": [
       "<matplotlib.axes._subplots.AxesSubplot at 0x7f7a596d4970>"
      ]
     },
     "execution_count": 33,
     "metadata": {},
     "output_type": "execute_result"
    },
    {
     "data": {
      "image/png": "[encoded data removed]",
      "text/plain": [
       "<Figure size 432x288 with 1 Axes>"
      ]
     },
     "metadata": {},
     "output_type": "display_data"
    }
   ],
   "source": [
    "male_link_color = twitter[twitter['gender'] == 'male']['link_color'].value_counts().head(7)\n",
    "male_link_color_idx = male_link_color.index\n",
    "male_top_color = male_link_color_idx.values\n",
    "male_top_color[1] = '009999'\n",
    "male_top_color[5] = '000000'\n",
    "print(male_top_color)\n",
    "\n",
    "l = lambda x: '#'+x\n",
    "\n",
    "sns.set_style(\"whitegrid\", {\"axes.facecolor\": \"white\"})\n",
    "sns.barplot (x = male_link_color, y = male_link_color_idx)"
   ]
  },
  {
   "cell_type": "code",
   "execution_count": 34,
   "metadata": {},
   "outputs": [
    {
     "data": {
      "text/plain": [
       "<matplotlib.axes._subplots.AxesSubplot at 0x7f7a5904f790>"
      ]
     },
     "execution_count": 34,
     "metadata": {},
     "output_type": "execute_result"
    },
    {
     "data": {
      "image/png": "[encoded data removed]",
      "text/plain": [
       "<Figure size 432x288 with 1 Axes>"
      ]
     },
     "metadata": {},
     "output_type": "display_data"
    }
   ],
   "source": [
    "female_link_color = twitter[twitter['gender'] == 'female']['link_color'].value_counts().head(7)\n",
    "female_link_color_idx = female_link_color.index\n",
    "female_top_color = female_link_color_idx.values\n",
    "\n",
    "l = lambda x: '#'+x\n",
    "\n",
    "sns.set_style(\"whitegrid\", {\"axes.facecolor\": \"white\"})\n",
    "sns.barplot (x = female_link_color, y = female_link_color_idx, palette=list(map(l, female_top_color)))"
   ]
  },
  {
   "cell_type": "markdown",
   "metadata": {},
   "source": [
    "As seen from plots displayed above, most users have not changed the default color of their profile, but if these are discarded, then there is significant dataset to be used for classification."
   ]
  },
  {
   "cell_type": "markdown",
   "metadata": {},
   "source": [
    "## <u>__Answer 2__ : The most primiarly used color for both 'sidebar' & 'link color' is Blue followed by Orange and the rest of them. </u>"
   ]
  },
  {
   "cell_type": "code",
   "execution_count": null,
   "metadata": {},
   "outputs": [],
   "source": []
  }
 ],
 "metadata": {
  "kernelspec": {
   "display_name": "Python 3",
   "language": "python",
   "name": "python3"
  },
  "language_info": {
   "codemirror_mode": {
    "name": "ipython",
    "version": 3
   },
   "file_extension": ".py",
   "mimetype": "text/x-python",
   "name": "python",
   "nbconvert_exporter": "python",
   "pygments_lexer": "ipython3",
   "version": "3.8.3"
  }
 },
 "nbformat": 4,
 "nbformat_minor": 4
}